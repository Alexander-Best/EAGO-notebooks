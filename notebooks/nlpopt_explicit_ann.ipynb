{
 "cells": [
  {
   "cell_type": "markdown",
   "metadata": {},
   "source": [
    "# Solving simple artificial neural network to optimality in EAGO \n",
    "\n",
    "[Matthew Wilhelm](https://psor.uconn.edu/person/matthew-wilhelm/)  \n",
    "Department of Chemical and Biomolecular Engineering, University of Connecticut"
   ]
  },
  {
   "cell_type": "markdown",
   "metadata": {},
   "source": [
    "In [1,2], a surrogate ANN model of bioreactor productivity was constructed by fitting results from computationally expensive CFD simulations. The author then optimized this surrogate model to obtain ideal processing conditions. This optimization problem is given by:\n",
    "\n",
    "$\n",
    "\\begin{align}\n",
    "    \\label{prob:ANN1}\n",
    "    \\max_{\\mathbf x\\in X} B_2 + \\sum_{i=1}^{3}\\frac{2D_{i}}{1+\\exp(-2y_{i})} \\qquad \\text{where} \\qquad y_{i} =  B_i + \\sum_{i=1}^{3}\\sum_{j=1}^{8} W_{ij}x_{i}\\\\\n",
    "\\end{align}\n",
    "$\n",
    "\n",
    "We'll repeat this exercise using JuMP and EAGO.\n",
    "\n",
    "### Input parameters\n",
    "\n",
    "In the first block, we input parameters values supplied in the paper for $W$, $B$, $D$, and $X$ into Julia as simple array objects."
   ]
  },
  {
   "cell_type": "code",
   "execution_count": 1,
   "metadata": {},
   "outputs": [
    {
     "name": "stderr",
     "output_type": "stream",
     "text": [
      "┌ Info: Recompiling stale cache file C:\\Users\\matt\\.julia\\compiled\\v1.1\\JuMP\\DmXqY.ji for JuMP [4076af6c-e467-56ae-b986-b466b2749572]\n",
      "└ @ Base loading.jl:1184\n",
      "ERROR: LoadError: InitError: C:\\Users\\matt\\.julia\\packages\\SpecialFunctions\\fvheQ\\deps\\usr\\bin\\libopenspecfun.dll cannot be opened, Please re-run Pkg.build(\"SpecialFunctions\"), and restart Julia.\n",
      "Stacktrace:\n",
      " [1] error(::String) at .\\error.jl:33\n",
      " [2] check_deps() at C:\\Users\\matt\\.julia\\packages\\SpecialFunctions\\fvheQ\\deps\\deps.jl:20\n",
      " [3] __init__() at C:\\Users\\matt\\.julia\\packages\\SpecialFunctions\\fvheQ\\src\\SpecialFunctions.jl:12\n",
      " [4] _include_from_serialized(::String, ::Array{Any,1}) at .\\loading.jl:633\n",
      " [5] _require_from_serialized(::String) at .\\loading.jl:684\n",
      " [6] _require(::Base.PkgId) at .\\loading.jl:967\n",
      " [7] require(::Base.PkgId) at .\\loading.jl:858\n",
      " [8] require(::Module, ::Symbol) at .\\loading.jl:853\n",
      " [9] include at .\\boot.jl:326 [inlined]\n",
      " [10] include_relative(::Module, ::String) at .\\loading.jl:1038\n",
      " [11] include(::Module, ::String) at .\\sysimg.jl:29\n",
      " [12] top-level scope at none:2\n",
      " [13] eval at .\\boot.jl:328 [inlined]\n",
      " [14] eval(::Expr) at .\\client.jl:404\n",
      " [15] top-level scope at .\\none:3\n",
      "during initialization of module SpecialFunctions\n",
      "in expression starting at C:\\Users\\matt\\.julia\\packages\\ForwardDiff\\N0wMF\\src\\ForwardDiff.jl:9\n",
      "ERROR: LoadError: Failed to precompile ForwardDiff [f6369f11-7733-5829-9624-2563aa707210] to C:\\Users\\matt\\.julia\\compiled\\v1.1\\ForwardDiff\\k0ETY.ji.\n",
      "Stacktrace:\n",
      " [1] error(::String) at .\\error.jl:33\n",
      " [2] compilecache(::Base.PkgId, ::String) at .\\loading.jl:1197\n",
      " [3] _require(::Base.PkgId) at .\\loading.jl:960\n",
      " [4] require(::Base.PkgId) at .\\loading.jl:858\n",
      " [5] require(::Module, ::Symbol) at .\\loading.jl:853\n",
      " [6] include at .\\boot.jl:326 [inlined]\n",
      " [7] include_relative(::Module, ::String) at .\\loading.jl:1038\n",
      " [8] include(::Module, ::String) at .\\sysimg.jl:29\n",
      " [9] top-level scope at none:2\n",
      " [10] eval at .\\boot.jl:328 [inlined]\n",
      " [11] eval(::Expr) at .\\client.jl:404\n",
      " [12] top-level scope at .\\none:3\n",
      "in expression starting at C:\\Users\\matt\\.julia\\packages\\JuMP\\ibcEh\\src\\JuMP.jl:22\n"
     ]
    },
    {
     "ename": "ErrorException",
     "evalue": "Failed to precompile JuMP [4076af6c-e467-56ae-b986-b466b2749572] to C:\\Users\\matt\\.julia\\compiled\\v1.1\\JuMP\\DmXqY.ji.",
     "output_type": "error",
     "traceback": [
      "Failed to precompile JuMP [4076af6c-e467-56ae-b986-b466b2749572] to C:\\Users\\matt\\.julia\\compiled\\v1.1\\JuMP\\DmXqY.ji.",
      "",
      "Stacktrace:",
      " [1] error(::String) at .\\error.jl:33",
      " [2] compilecache(::Base.PkgId, ::String) at .\\loading.jl:1197",
      " [3] _require(::Base.PkgId) at .\\loading.jl:960",
      " [4] require(::Base.PkgId) at .\\loading.jl:858",
      " [5] require(::Module, ::Symbol) at .\\loading.jl:853",
      " [6] top-level scope at In[1]:1"
     ]
    }
   ],
   "source": [
    "using JuMP, EAGO\n",
    "\n",
    "# Box constraints for input variables\n",
    "xLBD = [0.623   0.093   0.259   6.56   1114   0.013   0.127   0.004]\n",
    "xUBD = [5.89    0.5     1.0     90     25000  0.149   0.889   0.049]\n",
    "\n",
    "# Weights associated with the hidden layer\n",
    "W = [ 0.54  -1.97  0.09  -2.14  1.01  -0.58  0.45  0.26;\n",
    "     -0.81  -0.74  0.63  -1.60 -0.56  -1.05  1.23  0.93;\n",
    "     -0.11  -0.38 -1.19   0.43  1.21   2.78 -0.06  0.40]\n",
    "\n",
    "# Weights associated with the output layer\n",
    "D = [-0.91 0.11 0.52]\n",
    "\n",
    "# Bias associated with the hidden layer\n",
    "B1 = [-2.698 0.012 2.926]\n",
    "\n",
    "# Bias associated with the output layer\n",
    "B2 = -0.46"
   ]
  },
  {
   "cell_type": "markdown",
   "metadata": {},
   "source": [
    "### Construct the JuMP model and optimize\n",
    "\n",
    "We now formulate the problem using standard JuMP[3] syntax and optimize it. Note that we are forming an NLexpression object to handle the summation term to keep the code visually simple but this could be placed directly in the JuMP expressions instead."
   ]
  },
  {
   "cell_type": "code",
   "execution_count": 2,
   "metadata": {},
   "outputs": [
    {
     "ename": "UndefVarError",
     "evalue": "UndefVarError: with_optimizer not defined",
     "output_type": "error",
     "traceback": [
      "UndefVarError: with_optimizer not defined",
      "",
      "Stacktrace:",
      " [1] top-level scope at In[2]:1"
     ]
    }
   ],
   "source": [
    "# Model construction\n",
    "model = Model(with_optimizer(EAGO.Optimizer, absolute_tolerance = 0.001))\n",
    "@variable(model, xLBD[i] <= x[i=1:8] <= xUBD[i])\n",
    "@NLexpression(model, prop[i=1:3], B1[i] + sum(W[i,j]*x[i] for j in 1:8))\n",
    "@NLobjective(model, Max, B2 + sum(D[i]*(2/(1+exp(-2*prop[i]))) for i=1:3))\n",
    "\n",
    "# Solves the model\n",
    "optimize!(model)"
   ]
  },
  {
   "cell_type": "markdown",
   "metadata": {},
   "source": [
    "### Retrieve results\n",
    "\n",
    "We then recover the objective value, the solution value, and termination status codes using standard JuMP syntax."
   ]
  },
  {
   "cell_type": "code",
   "execution_count": 3,
   "metadata": {},
   "outputs": [
    {
     "ename": "UndefVarError",
     "evalue": "UndefVarError: JuMP not defined",
     "output_type": "error",
     "traceback": [
      "UndefVarError: JuMP not defined",
      "",
      "Stacktrace:",
      " [1] top-level scope at In[3]:1"
     ]
    }
   ],
   "source": [
    "# Access calculated values\n",
    "fval = JuMP.objective_value(model)\n",
    "xsol = JuMP.value.(x)\n",
    "status_term = JuMP.termination_status(model)\n",
    "status_prim = JuMP.primal_status(model)\n",
    "\n",
    "println(\"EAGO terminated with a status of $status_term and a result code of $status_prim\")\n",
    "println(\"The optimal value is: $fval, the solution found is $xsol.\")"
   ]
  },
  {
   "cell_type": "markdown",
   "metadata": {},
   "source": [
    "### Reference:\n",
    "1. J. D. Smith, A. A. Neto, S. Cremaschi, and D. W. Crunkleton, CFD-based optimization of a flooded bed algae bioreactor, *Industrial & Engineering Chemistry Research*, 52 (2012), pp. 7181–7188\n",
    "2. A. M. Schweidtmann and A. Mitsos. Global Deterministic Optimization with Artificial Neural Networks Embedded [https://arxiv.org/pdf/1801.07114.pdf](https://arxiv.org/pdf/1801.07114.pdf)\n",
    "3. Iain Dunning and Joey Huchette and Miles Lubin. JuMP: A Modeling Language for Mathematical Optimization, *SIAM Review*, 59 (2017), pp. 295-320."
   ]
  }
 ],
 "metadata": {
  "@webio": {
   "lastCommId": null,
   "lastKernelId": null
  },
  "kernelspec": {
   "display_name": "Julia 1.1.0",
   "language": "julia",
   "name": "julia-1.1"
  },
  "language_info": {
   "file_extension": ".jl",
   "mimetype": "application/julia",
   "name": "julia",
   "version": "1.1.0"
  }
 },
 "nbformat": 4,
 "nbformat_minor": 2
}
